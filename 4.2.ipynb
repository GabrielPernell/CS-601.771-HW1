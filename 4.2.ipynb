{
 "cells": [
  {
   "cell_type": "code",
   "execution_count": 12,
   "id": "337a46f4",
   "metadata": {},
   "outputs": [],
   "source": [
    "import os, numpy as np, torch\n",
    "from datasets import load_dataset\n",
    "from transformers import (\n",
    "    AutoTokenizer, AutoConfig, AutoModelForSequenceClassification,\n",
    "    DataCollatorWithPadding, get_linear_schedule_with_warmup\n",
    ")\n",
    "from peft import LoraConfig, get_peft_model\n",
    "from torch.utils.data import DataLoader\n",
    "from tqdm.auto import tqdm\n",
    "import matplotlib.pyplot as plt\n"
   ]
  },
  {
   "cell_type": "code",
   "execution_count": 13,
   "id": "8aa59667",
   "metadata": {},
   "outputs": [
    {
     "data": {
      "text/plain": [
       "(1832, 229, 229)"
      ]
     },
     "execution_count": 13,
     "metadata": {},
     "output_type": "execute_result"
    }
   ],
   "source": [
    "ds = load_dataset(\"wics/strategy-qa\", revision=\"refs/convert/parquet\")\n",
    "\n",
    "base = ds[\"test\"]\n",
    "tmp = base.train_test_split(test_size=0.2, seed=42)\n",
    "train_valid = tmp[\"train\"]\n",
    "valid_test = tmp[\"test\"].train_test_split(test_size=0.5, seed=42)\n",
    "\n",
    "train_ds, dev_ds, test_ds = train_valid, valid_test[\"train\"], valid_test[\"test\"]\n",
    "len(train_ds), len(dev_ds), len(test_ds)\n"
   ]
  },
  {
   "cell_type": "code",
   "execution_count": 14,
   "id": "c42f7e2d",
   "metadata": {},
   "outputs": [
    {
     "name": "stderr",
     "output_type": "stream",
     "text": [
      "Map: 100%|██████████| 229/229 [00:00<00:00, 15661.36 examples/s]\n"
     ]
    },
    {
     "data": {
      "text/plain": [
       "device(type='cuda')"
      ]
     },
     "execution_count": 14,
     "metadata": {},
     "output_type": "execute_result"
    }
   ],
   "source": [
    "model_id = \"answerdotai/ModernBERT-base\"  \n",
    "tokenizer = AutoTokenizer.from_pretrained(model_id)\n",
    "\n",
    "def preprocess(batch):\n",
    "    labels = [1 if a else 0 for a in batch[\"answer\"]]\n",
    "    tok = tokenizer(batch[\"question\"], truncation=True, padding=False, max_length=256)\n",
    "    tok[\"labels\"] = labels\n",
    "    return tok\n",
    "\n",
    "train_tok = train_ds.map(preprocess, batched=True, remove_columns=train_ds.column_names)\n",
    "dev_tok   = dev_ds.map(preprocess,   batched=True, remove_columns=dev_ds.column_names)\n",
    "test_tok  = test_ds.map(preprocess,  batched=True, remove_columns=test_ds.column_names)\n",
    "\n",
    "collator = DataCollatorWithPadding(tokenizer)\n",
    "\n",
    "bsz = 32\n",
    "train_loader = DataLoader(train_tok, batch_size=bsz, shuffle=True,  collate_fn=collator)\n",
    "dev_loader   = DataLoader(dev_tok,   batch_size=bsz, shuffle=False, collate_fn=collator)\n",
    "test_loader  = DataLoader(test_tok,  batch_size=bsz, shuffle=False, collate_fn=collator)\n",
    "\n",
    "device = torch.device(\"cuda\" if torch.cuda.is_available() else \"cpu\")\n",
    "device\n"
   ]
  },
  {
   "cell_type": "code",
   "execution_count": 15,
   "id": "f6253c48",
   "metadata": {},
   "outputs": [
    {
     "name": "stderr",
     "output_type": "stream",
     "text": [
      "Some weights of ModernBertForSequenceClassification were not initialized from the model checkpoint at answerdotai/ModernBERT-base and are newly initialized: ['classifier.bias', 'classifier.weight']\n",
      "You should probably TRAIN this model on a down-stream task to be able to use it for predictions and inference.\n"
     ]
    },
    {
     "name": "stdout",
     "output_type": "stream",
     "text": [
      "Trainable params: 1,538 / 149,609,476 (0.0010%)\n"
     ]
    }
   ],
   "source": [
    "config = AutoConfig.from_pretrained(model_id, num_labels=2)\n",
    "model  = AutoModelForSequenceClassification.from_pretrained(model_id, config=config).to(device)\n",
    "\n",
    "for p in model.classifier.parameters():\n",
    "    p.requires_grad = False\n",
    "\n",
    "lora_cfg = LoraConfig(\n",
    "    r=1, lora_alpha=1, lora_dropout=0.0,\n",
    "    target_modules=[\"out_proj\", \"wo\", \"dense\"],  \n",
    "    bias=\"none\",\n",
    "    task_type=\"SEQ_CLS\"\n",
    ")\n",
    "\n",
    "model = get_peft_model(model, lora_cfg)\n",
    "\n",
    "LORA_LAYER_ID = \"layer.16\"\n",
    "for name, param in model.named_parameters():\n",
    "    if \"lora_\" in name:\n",
    "        if LORA_LAYER_ID not in name:\n",
    "            param.requires_grad = False\n",
    "\n",
    "trainable = sum(p.numel() for p in model.parameters() if p.requires_grad)\n",
    "total     = sum(p.numel() for p in model.parameters())\n",
    "print(f\"Trainable params: {trainable:,} / {total:,} ({100*trainable/total:.4f}%)\")\n"
   ]
  },
  {
   "cell_type": "code",
   "execution_count": 16,
   "id": "6d6e73e3",
   "metadata": {},
   "outputs": [],
   "source": [
    "def accuracy_from_logits(logits, labels):\n",
    "    preds = logits.argmax(-1)\n",
    "    return (preds == labels).float().mean().item()\n",
    "\n",
    "@torch.no_grad()\n",
    "def evaluate(model, loader):\n",
    "    model.eval()\n",
    "    tot_acc, tot_n = 0.0, 0\n",
    "    for batch in loader:\n",
    "        batch = {k: v.to(device) for k, v in batch.items()}\n",
    "        out = model(**batch)\n",
    "        acc = accuracy_from_logits(out.logits, batch[\"labels\"])\n",
    "        n = batch[\"labels\"].size(0)\n",
    "        tot_acc += acc * n\n",
    "        tot_n   += n\n",
    "    return tot_acc / tot_n\n"
   ]
  },
  {
   "cell_type": "code",
   "execution_count": null,
   "id": "3e8ea61a",
   "metadata": {},
   "outputs": [
    {
     "name": "stderr",
     "output_type": "stream",
     "text": [
      "Epoch 1/8: 100%|██████████| 58/58 [00:01<00:00, 52.51it/s, loss=0.6114]\n"
     ]
    },
    {
     "name": "stdout",
     "output_type": "stream",
     "text": [
      "Epoch 1: train_acc=0.6053  dev_acc=0.5371\n",
      "New best dev=0.5371 → saved modernbert_lora_best.pt\n"
     ]
    },
    {
     "name": "stderr",
     "output_type": "stream",
     "text": [
      "Epoch 2/8: 100%|██████████| 58/58 [00:00<00:00, 59.24it/s, loss=0.8343]\n"
     ]
    },
    {
     "name": "stdout",
     "output_type": "stream",
     "text": [
      "Epoch 2: train_acc=0.6507  dev_acc=0.5895\n",
      "New best dev=0.5895 → saved modernbert_lora_best.pt\n"
     ]
    },
    {
     "name": "stderr",
     "output_type": "stream",
     "text": [
      "Epoch 3/8: 100%|██████████| 58/58 [00:00<00:00, 58.84it/s, loss=0.4096]\n"
     ]
    },
    {
     "name": "stdout",
     "output_type": "stream",
     "text": [
      "Epoch 3: train_acc=0.6681  dev_acc=0.5371\n"
     ]
    },
    {
     "name": "stderr",
     "output_type": "stream",
     "text": [
      "Epoch 4/8: 100%|██████████| 58/58 [00:00<00:00, 59.19it/s, loss=0.5893]\n"
     ]
    },
    {
     "name": "stdout",
     "output_type": "stream",
     "text": [
      "Epoch 4: train_acc=0.6807  dev_acc=0.5983\n",
      "New best dev=0.5983 → saved modernbert_lora_best.pt\n"
     ]
    },
    {
     "name": "stderr",
     "output_type": "stream",
     "text": [
      "Epoch 5/8: 100%|██████████| 58/58 [00:00<00:00, 59.87it/s, loss=0.6302]\n"
     ]
    },
    {
     "name": "stdout",
     "output_type": "stream",
     "text": [
      "Epoch 5: train_acc=0.6763  dev_acc=0.5852\n"
     ]
    },
    {
     "name": "stderr",
     "output_type": "stream",
     "text": [
      "Epoch 6/8: 100%|██████████| 58/58 [00:00<00:00, 58.16it/s, loss=0.7090]\n"
     ]
    },
    {
     "name": "stdout",
     "output_type": "stream",
     "text": [
      "Epoch 6: train_acc=0.6927  dev_acc=0.5808\n"
     ]
    },
    {
     "name": "stderr",
     "output_type": "stream",
     "text": [
      "Epoch 7/8: 100%|██████████| 58/58 [00:00<00:00, 60.27it/s, loss=0.5692]\n"
     ]
    },
    {
     "name": "stdout",
     "output_type": "stream",
     "text": [
      "Epoch 7: train_acc=0.7151  dev_acc=0.5590\n"
     ]
    },
    {
     "name": "stderr",
     "output_type": "stream",
     "text": [
      "Epoch 8/8: 100%|██████████| 58/58 [00:00<00:00, 59.94it/s, loss=0.4040]\n"
     ]
    },
    {
     "name": "stdout",
     "output_type": "stream",
     "text": [
      "Epoch 8: train_acc=0.7238  dev_acc=0.5502\n"
     ]
    }
   ],
   "source": [
    "epochs = 3\n",
    "lr = 2e-3  # LoRA r=1 on single Wo can use similar LR\n",
    "optim = torch.optim.AdamW([p for p in model.parameters() if p.requires_grad], lr=lr, weight_decay=0.0)\n",
    "\n",
    "num_training_steps = epochs * len(train_loader)\n",
    "sched = get_linear_schedule_with_warmup(optim, num_warmup_steps=int(0.06 * num_training_steps),\n",
    "                                        num_training_steps=num_training_steps)\n",
    "\n",
    "train_hist, dev_hist = [], []\n",
    "best_dev, best_path = -1.0, \"modernbert_lora_best.pt\"\n",
    "\n",
    "for ep in range(1, epochs+1):\n",
    "    model.train()\n",
    "    pbar = tqdm(train_loader, desc=f\"Epoch {ep}/{epochs}\")\n",
    "    for batch in pbar:\n",
    "        batch = {k: v.to(device) for k, v in batch.items()}\n",
    "        out = model(**batch)\n",
    "        loss = out.loss\n",
    "        optim.zero_grad(set_to_none=True)\n",
    "        loss.backward()\n",
    "        optim.step(); sched.step()\n",
    "        pbar.set_postfix({\"loss\": f\"{loss.item():.4f}\"})\n",
    "\n",
    "    tr_acc  = evaluate(model, train_loader)\n",
    "    dev_acc = evaluate(model, dev_loader)\n",
    "    train_hist.append(tr_acc); dev_hist.append(dev_acc)\n",
    "    print(f\"Epoch {ep}: train_acc={tr_acc:.4f}  dev_acc={dev_acc:.4f}\")\n",
    "\n",
    "    if dev_acc > best_dev:\n",
    "        best_dev = dev_acc\n",
    "        torch.save(model.state_dict(), best_path)\n",
    "        print(f\"New best dev={best_dev:.4f} → saved {best_path}\")\n"
   ]
  },
  {
   "cell_type": "code",
   "execution_count": 18,
   "id": "86005b48",
   "metadata": {},
   "outputs": [
    {
     "data": {
      "image/png": "[encoded data removed]",
      "text/plain": [
       "<Figure size 500x400 with 1 Axes>"
      ]
     },
     "metadata": {},
     "output_type": "display_data"
    }
   ],
   "source": [
    "epochs_axis = range(1, len(dev_hist)+1)\n",
    "plt.figure(figsize=(5,4))\n",
    "plt.plot(epochs_axis, train_hist, \"-o\", label=\"train accuracy (LoRA)\")\n",
    "plt.plot(epochs_axis, dev_hist,   \"-o\", label=\"dev accuracy (LoRA)\")\n",
    "plt.xlabel(\"Epoch\"); plt.ylabel(\"Accuracy\"); plt.title(\"ModernBERT + LoRA\")\n",
    "plt.grid(True); plt.legend(); plt.tight_layout()\n"
   ]
  },
  {
   "cell_type": "code",
   "execution_count": 19,
   "id": "bce93ecf",
   "metadata": {},
   "outputs": [
    {
     "name": "stderr",
     "output_type": "stream",
     "text": [
      "C:\\Users\\gabri\\AppData\\Local\\Temp\\ipykernel_896\\4073783681.py:1: FutureWarning: You are using `torch.load` with `weights_only=False` (the current default value), which uses the default pickle module implicitly. It is possible to construct malicious pickle data which will execute arbitrary code during unpickling (See https://github.com/pytorch/pytorch/blob/main/SECURITY.md#untrusted-models for more details). In a future release, the default value for `weights_only` will be flipped to `True`. This limits the functions that could be executed during unpickling. Arbitrary objects will no longer be allowed to be loaded via this mode unless they are explicitly allowlisted by the user via `torch.serialization.add_safe_globals`. We recommend you start setting `weights_only=True` for any use case where you don't have full control of the loaded file. Please open an issue on GitHub for any issues related to this experimental feature.\n",
      "  model.load_state_dict(torch.load(best_path, map_location=device))\n"
     ]
    },
    {
     "name": "stdout",
     "output_type": "stream",
     "text": [
      "{'lora_best_dev_accuracy': 0.5982532756297348, 'lora_test_accuracy': 0.5807860262659439}\n"
     ]
    }
   ],
   "source": [
    "model.load_state_dict(torch.load(best_path, map_location=device))\n",
    "model.to(device)\n",
    "test_acc = evaluate(model, test_loader)\n",
    "print({\"lora_best_dev_accuracy\": best_dev, \"lora_test_accuracy\": test_acc})"
   ]
  }
 ],
 "metadata": {
  "kernelspec": {
   "display_name": "ssw_hw1",
   "language": "python",
   "name": "python3"
  },
  "language_info": {
   "codemirror_mode": {
    "name": "ipython",
    "version": 3
   },
   "file_extension": ".py",
   "mimetype": "text/x-python",
   "name": "python",
   "nbconvert_exporter": "python",
   "pygments_lexer": "ipython3",
   "version": "3.10.13"
  }
 },
 "nbformat": 4,
 "nbformat_minor": 5
}
