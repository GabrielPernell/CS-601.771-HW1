{
 "cells": [
  {
   "cell_type": "code",
   "execution_count": 7,
   "id": "1252bcd3",
   "metadata": {},
   "outputs": [],
   "source": [
    "from datasets import load_dataset\n",
    "import numpy as np, faiss, pickle, json, re"
   ]
  },
  {
   "cell_type": "code",
   "execution_count": null,
   "id": "4d34b108",
   "metadata": {},
   "outputs": [
    {
     "data": {
      "text/plain": [
       "((5183, 1536), (809, 1536))"
      ]
     },
     "execution_count": 8,
     "metadata": {},
     "output_type": "execute_result"
    }
   ],
   "source": [
    "DOC_PKL   = r\"C:\\\\Users\\\\gabri\\\\Downloads\\\\scifact_evidence_embeddings.pkl\" \n",
    "CLAIM_PKL = r\"C:\\\\Users\\\\gabri\\\\Downloads\\\\scifact_claim_embeddings.pkl\"     \n",
    "with open(DOC_PKL, \"rb\") as f:\n",
    "    docs_raw = pickle.load(f)    \n",
    "with open(CLAIM_PKL, \"rb\") as f:\n",
    "    claims_raw = pickle.load(f)   \n",
    "\n",
    "doc_ids, doc_embs = zip(*[(k[0], np.asarray(v, dtype=\"float32\")) for k,v in docs_raw.items()])\n",
    "claim_ids, claim_embs = zip(*[(k[0], np.asarray(v, dtype=\"float32\")) for k,v in claims_raw.items()])\n",
    "\n",
    "doc_ids   = np.array(doc_ids, dtype=object)\n",
    "doc_embs  = np.vstack(doc_embs).astype(\"float32\")\n",
    "claim_ids = np.array(claim_ids, dtype=object)\n",
    "claim_embs= np.vstack(claim_embs).astype(\"float32\")\n",
    "\n",
    "doc_embs.shape, claim_embs.shape"
   ]
  },
  {
   "cell_type": "code",
   "execution_count": null,
   "id": "6de6af6e",
   "metadata": {},
   "outputs": [
    {
     "name": "stderr",
     "output_type": "stream",
     "text": [
      "Generating train split: 1261 examples [00:00, 553591.93 examples/s]\n",
      "Generating validation split: 450 examples [00:00, 179022.74 examples/s]\n",
      "Generating test split: 300 examples [00:00, 139608.48 examples/s]\n",
      "Generating train split: 5183 examples [00:00, 363669.60 examples/s]\n"
     ]
    }
   ],
   "source": [
    "claims_ds = load_dataset(\"allenai/scifact\", data_dir=\"claims\", revision=\"refs/convert/parquet\")\n",
    "corpus_ds = load_dataset(\"allenai/scifact\", data_dir=\"corpus\",  revision=\"refs/convert/parquet\")\n",
    "\n",
    "claim_splits = [s for s in [\"train\",\"validation\",\"dev\",\"test\"] if s in claims_ds]\n",
    "\n",
    "def parse_evidence_doc_ids(example):\n",
    "    gold = set()\n",
    "    if \"evidence\" in example and example[\"evidence\"] is not None:\n",
    "        ev = example[\"evidence\"]\n",
    "        if isinstance(ev, list):\n",
    "            for e in ev:\n",
    "                if isinstance(e, dict) and \"doc_id\" in e:\n",
    "                    gold.add(int(e[\"doc_id\"]))\n",
    "                elif isinstance(e, (int, np.integer)):\n",
    "                    gold.add(int(e))\n",
    "    if not gold and \"evidence_doc_id\" in example and example[\"evidence_doc_id\"] is not None:\n",
    "        s = example[\"evidence_doc_id\"]\n",
    "        if isinstance(s, str) and s.strip():\n",
    "            try:\n",
    "                parsed = json.loads(s)   \n",
    "                if isinstance(parsed, list):\n",
    "                    gold.update(int(x) for x in parsed)\n",
    "                else:\n",
    "                    gold.add(int(parsed))\n",
    "            except Exception:\n",
    "                for tok in re.findall(r\"-?\\d+\", s):\n",
    "                    gold.add(int(tok))\n",
    "        elif isinstance(s, (int, np.integer)):\n",
    "            gold.add(int(s))\n",
    "    if not gold and \"cited_doc_ids\" in example and example[\"cited_doc_ids\"] is not None:\n",
    "        if isinstance(example[\"cited_doc_ids\"], list):\n",
    "            gold.update(int(x) for x in example[\"cited_doc_ids\"] if isinstance(x, (int, np.integer)))\n",
    "    return gold\n",
    "\n",
    "gold_map = {}\n",
    "for sp in claim_splits:\n",
    "    for ex in claims_ds[sp]:\n",
    "        cid = int(ex[\"id\"]) if \"id\" in ex else int(ex.get(\"claim_id\"))\n",
    "        gold_map[cid] = parse_evidence_doc_ids(ex)\n"
   ]
  },
  {
   "cell_type": "code",
   "execution_count": 10,
   "id": "872fd11b",
   "metadata": {},
   "outputs": [
    {
     "data": {
      "text/plain": [
       "(809, 809)"
      ]
     },
     "execution_count": 10,
     "metadata": {},
     "output_type": "execute_result"
    }
   ],
   "source": [
    "gold_sets = []\n",
    "keep_idx = []\n",
    "for i, cid in enumerate(claim_ids):\n",
    "    g = gold_map.get(int(cid), set())\n",
    "    if len(g) > 0:\n",
    "        keep_idx.append(i)\n",
    "        gold_sets.append(g)\n",
    "\n",
    "claim_ids_f   = claim_ids[keep_idx]\n",
    "claim_embs_f  = claim_embs[keep_idx]\n",
    "len(claim_ids), len(claim_ids_f)"
   ]
  },
  {
   "cell_type": "code",
   "execution_count": null,
   "id": "e0ea00a6",
   "metadata": {},
   "outputs": [
    {
     "name": "stdout",
     "output_type": "stream",
     "text": [
      "{'MRR@1': 0.5822002472187886, 'MRR@10': 0.6740616477328467, 'MRR@50': 0.6785670111103024, 'MAP@1': 0.5822002472187886, 'MAP@10': 0.6724213706908392, 'MAP@50': 0.6771543808644933}\n",
      "\n",
      "Table row:\n",
      "OpenAI Embeddings | 0.5822 | 0.6741 | 0.6786 | 0.5822 | 0.6724 | 0.6772\n"
     ]
    }
   ],
   "source": [
    "def l2norm(x): return x / (np.linalg.norm(x, axis=1, keepdims=True) + 1e-12)\n",
    "\n",
    "doc_embs_n   = l2norm(doc_embs)\n",
    "claim_embs_n = l2norm(claim_embs_f)\n",
    "\n",
    "index = faiss.IndexFlatIP(doc_embs_n.shape[1])\n",
    "index.add(doc_embs_n)\n",
    "\n",
    "D, I = index.search(claim_embs_n, 50)\n",
    "faiss2doc = np.array(doc_ids, dtype=object)\n",
    "retrieved = [[faiss2doc[j] for j in row] for row in I]\n",
    "\n",
    "def mrr_at_k(recs, golds, k):\n",
    "    vals = []\n",
    "    for r, g in zip(recs, golds):\n",
    "        rank = next((i+1 for i,doc in enumerate(r[:k]) if doc in g), None)\n",
    "        vals.append(0.0 if rank is None else 1.0/rank)\n",
    "    return float(np.mean(vals))\n",
    "\n",
    "def map_at_k(recs, golds, k):\n",
    "    vals = []\n",
    "    for r, g in zip(recs, golds):\n",
    "        hits, ap = 0, 0.0\n",
    "        for i,doc in enumerate(r[:k], start=1):\n",
    "            if doc in g:\n",
    "                hits += 1\n",
    "                ap += hits / i\n",
    "        denom = min(len(g), k) if len(g) > 0 else 1\n",
    "        vals.append(0.0 if denom==0 else ap/denom)\n",
    "    return float(np.mean(vals))\n",
    "\n",
    "Ks = [1,10,50]\n",
    "metrics = {f\"MRR@{k}\": mrr_at_k(retrieved, gold_sets, k) for k in Ks}\n",
    "metrics.update({f\"MAP@{k}\": map_at_k(retrieved, gold_sets, k) for k in Ks})\n",
    "print(metrics)\n",
    "\n"
   ]
  },
  {
   "cell_type": "code",
   "execution_count": 12,
   "id": "ffa125cc",
   "metadata": {},
   "outputs": [
    {
     "name": "stdout",
     "output_type": "stream",
     "text": [
      "Approach - Metric | MRR@1 | MRR@10 | MRR@50 | MAP@1 | MAP@10 | MAP@50\n",
      "OpenAI Embeddings | 0.5822 | 0.6741 | 0.6786 | 0.5822 | 0.6724 | 0.6772\n"
     ]
    }
   ],
   "source": [
    "print(\"Approach - Metric |\", \" | \".join([f\"MRR@{k}\" for k in Ks] + [f\"MAP@{k}\" for k in Ks]))\n",
    "print(\"OpenAI Embeddings |\",\n",
    "      \" | \".join([f\"{metrics[f'MRR@{k}']:.4f}\" for k in Ks] +\n",
    "                 [f\"{metrics[f'MAP@{k}']:.4f}\" for k in Ks]))\n"
   ]
  }
 ],
 "metadata": {
  "kernelspec": {
   "display_name": "ssw_hw1",
   "language": "python",
   "name": "python3"
  },
  "language_info": {
   "codemirror_mode": {
    "name": "ipython",
    "version": 3
   },
   "file_extension": ".py",
   "mimetype": "text/x-python",
   "name": "python",
   "nbconvert_exporter": "python",
   "pygments_lexer": "ipython3",
   "version": "3.10.13"
  }
 },
 "nbformat": 4,
 "nbformat_minor": 5
}
