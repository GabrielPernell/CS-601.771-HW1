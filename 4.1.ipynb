{
 "cells": [
  {
   "cell_type": "code",
   "execution_count": 7,
   "id": "667ca17c",
   "metadata": {},
   "outputs": [],
   "source": [
    "import os, numpy as np, torch\n",
    "from datasets import load_dataset\n",
    "from transformers import AutoTokenizer, AutoConfig, AutoModelForSequenceClassification, DataCollatorWithPadding, get_linear_schedule_with_warmup\n",
    "import matplotlib.pyplot as plt\n",
    "from torch.utils.data import DataLoader\n",
    "from tqdm.auto import tqdm\n"
   ]
  },
  {
   "cell_type": "code",
   "execution_count": 8,
   "id": "2e048e99",
   "metadata": {},
   "outputs": [
    {
     "data": {
      "text/plain": [
       "(1832, 229, 229)"
      ]
     },
     "execution_count": 8,
     "metadata": {},
     "output_type": "execute_result"
    }
   ],
   "source": [
    "ds = load_dataset(\"wics/strategy-qa\", revision=\"refs/convert/parquet\")\n",
    "\n",
    "base = ds[\"test\"]\n",
    "tmp = base.train_test_split(test_size=0.2, seed=25)\n",
    "train_valid = tmp[\"train\"]\n",
    "valid_test = tmp[\"test\"].train_test_split(test_size=0.5, seed=25)\n",
    "\n",
    "train_ds, dev_ds, test_ds = train_valid, valid_test[\"train\"], valid_test[\"test\"]\n",
    "len(train_ds), len(dev_ds), len(test_ds)\n"
   ]
  },
  {
   "cell_type": "code",
   "execution_count": 9,
   "id": "539366fe",
   "metadata": {},
   "outputs": [
    {
     "name": "stderr",
     "output_type": "stream",
     "text": [
      "Map: 100%|██████████| 1832/1832 [00:00<00:00, 44298.71 examples/s]\n",
      "Map: 100%|██████████| 229/229 [00:00<00:00, 15501.12 examples/s]\n",
      "Map: 100%|██████████| 229/229 [00:00<00:00, 15216.25 examples/s]\n"
     ]
    }
   ],
   "source": [
    "model_id = \"answerdotai/ModernBERT-base\"\n",
    "tokenizer = AutoTokenizer.from_pretrained(model_id)\n",
    "\n",
    "def preprocess(batch):\n",
    "    labels = [1 if a else 0 for a in batch[\"answer\"]]\n",
    "    tok = tokenizer(batch[\"question\"], truncation=True, padding=False, max_length=256)\n",
    "    tok[\"labels\"] = labels\n",
    "    return tok\n",
    "\n",
    "train_tok = train_ds.map(preprocess, batched=True, remove_columns=train_ds.column_names)\n",
    "dev_tok   = dev_ds.map(preprocess,   batched=True, remove_columns=dev_ds.column_names)\n",
    "test_tok  = test_ds.map(preprocess,  batched=True, remove_columns=test_ds.column_names)\n",
    "\n",
    "collator = DataCollatorWithPadding(tokenizer)\n"
   ]
  },
  {
   "cell_type": "code",
   "execution_count": 10,
   "id": "de88ac5a",
   "metadata": {},
   "outputs": [
    {
     "data": {
      "text/plain": [
       "device(type='cuda')"
      ]
     },
     "execution_count": 10,
     "metadata": {},
     "output_type": "execute_result"
    }
   ],
   "source": [
    "bsz = 32\n",
    "train_loader = DataLoader(train_tok, batch_size=bsz, shuffle=True, collate_fn=collator)\n",
    "dev_loader   = DataLoader(dev_tok,   batch_size=bsz, shuffle=False, collate_fn=collator)\n",
    "test_loader  = DataLoader(test_tok,  batch_size=bsz, shuffle=False, collate_fn=collator)\n",
    "\n",
    "device = torch.device(\"cuda\" if torch.cuda.is_available() else \"cpu\")\n",
    "device\n"
   ]
  },
  {
   "cell_type": "code",
   "execution_count": null,
   "id": "d9024b39",
   "metadata": {},
   "outputs": [
    {
     "name": "stderr",
     "output_type": "stream",
     "text": [
      "Some weights of ModernBertForSequenceClassification were not initialized from the model checkpoint at answerdotai/ModernBERT-base and are newly initialized: ['classifier.bias', 'classifier.weight']\n",
      "You should probably TRAIN this model on a down-stream task to be able to use it for predictions and inference.\n"
     ]
    },
    {
     "name": "stdout",
     "output_type": "stream",
     "text": [
      "Trainable params: 592,130 / 149,606,402 (0.40%)\n"
     ]
    }
   ],
   "source": [
    "config = AutoConfig.from_pretrained(model_id, num_labels=2)\n",
    "model  = AutoModelForSequenceClassification.from_pretrained(model_id, config=config).to(device)\n",
    "\n",
    "for p in model.base_model.parameters():  \n",
    "    p.requires_grad = False\n",
    "\n",
    "trainable = sum(p.numel() for p in model.parameters() if p.requires_grad)\n",
    "total     = sum(p.numel() for p in model.parameters())\n",
    "print(f\"Trainable params: {trainable:,} / {total:,} ({100*trainable/total:.2f}%)\")\n"
   ]
  },
  {
   "cell_type": "code",
   "execution_count": 12,
   "id": "38321af7",
   "metadata": {},
   "outputs": [],
   "source": [
    "def accuracy_from_logits(logits, labels):\n",
    "    preds = logits.argmax(-1)\n",
    "    return (preds == labels).float().mean().item()\n",
    "\n",
    "@torch.no_grad()\n",
    "def evaluate(model, loader):\n",
    "    model.eval()\n",
    "    tot_acc, tot_n = 0.0, 0\n",
    "    for batch in loader:\n",
    "        batch = {k: v.to(device) for k, v in batch.items()}\n",
    "        out = model(**batch)\n",
    "        acc = accuracy_from_logits(out.logits, batch[\"labels\"])\n",
    "        n = batch[\"labels\"].size(0)\n",
    "        tot_acc += acc * n\n",
    "        tot_n   += n\n",
    "    return tot_acc / tot_n\n"
   ]
  },
  {
   "cell_type": "code",
   "execution_count": null,
   "id": "287bcc37",
   "metadata": {},
   "outputs": [
    {
     "name": "stderr",
     "output_type": "stream",
     "text": [
      "Epoch 1/3: 100%|██████████| 58/58 [00:01<00:00, 45.82it/s, loss=0.6548]\n"
     ]
    },
    {
     "name": "stdout",
     "output_type": "stream",
     "text": [
      "Epoch 1: train_acc=0.6217  dev_acc=0.5153\n",
      "  🔥 New best dev=0.5153 → saved modernbert_head_tune_best.pt\n"
     ]
    },
    {
     "name": "stderr",
     "output_type": "stream",
     "text": [
      "Epoch 2/3: 100%|██████████| 58/58 [00:01<00:00, 55.50it/s, loss=0.7938]\n"
     ]
    },
    {
     "name": "stdout",
     "output_type": "stream",
     "text": [
      "Epoch 2: train_acc=0.6900  dev_acc=0.5983\n",
      "  🔥 New best dev=0.5983 → saved modernbert_head_tune_best.pt\n"
     ]
    },
    {
     "name": "stderr",
     "output_type": "stream",
     "text": [
      "Epoch 3/3: 100%|██████████| 58/58 [00:00<00:00, 59.33it/s, loss=0.4014]\n"
     ]
    },
    {
     "name": "stdout",
     "output_type": "stream",
     "text": [
      "Epoch 3: train_acc=0.7003  dev_acc=0.5677\n"
     ]
    }
   ],
   "source": [
    "epochs = 3\n",
    "lr = 2e-3 \n",
    "optim = torch.optim.AdamW([p for p in model.parameters() if p.requires_grad], lr=lr, weight_decay=0.0)\n",
    " \n",
    "num_training_steps = epochs * len(train_loader)\n",
    "scheduler = get_linear_schedule_with_warmup(optim, num_warmup_steps=int(0.06 * num_training_steps), num_training_steps=num_training_steps)\n",
    "\n",
    "train_hist, dev_hist = [], []\n",
    "best_dev, best_path = -1.0, \"modernbert_head_tune_best.pt\"\n",
    "\n",
    "for ep in range(1, epochs+1):\n",
    "    model.train()\n",
    "    pbar = tqdm(train_loader, desc=f\"Epoch {ep}/{epochs}\")\n",
    "    for batch in pbar:\n",
    "        batch = {k: v.to(device) for k, v in batch.items()}\n",
    "        out = model(**batch)\n",
    "        loss = out.loss\n",
    "        optim.zero_grad(set_to_none=True)\n",
    "        loss.backward()\n",
    "        optim.step()\n",
    "        scheduler.step()\n",
    "        pbar.set_postfix({\"loss\": f\"{loss.item():.4f}\"})\n",
    "\n",
    "    # epoch-end evals\n",
    "    tr_acc  = evaluate(model, train_loader)\n",
    "    dev_acc = evaluate(model, dev_loader)\n",
    "    train_hist.append(tr_acc); dev_hist.append(dev_acc)\n",
    "    print(f\"Epoch {ep}: train_acc={tr_acc:.4f}  dev_acc={dev_acc:.4f}\")\n",
    "\n",
    "    if dev_acc > best_dev:\n",
    "        best_dev = dev_acc\n",
    "        torch.save(model.state_dict(), best_path)\n",
    "        print(f\"  🔥 New best dev={best_dev:.4f} → saved {best_path}\")\n"
   ]
  },
  {
   "cell_type": "code",
   "execution_count": 14,
   "id": "5f6de658",
   "metadata": {},
   "outputs": [
    {
     "data": {
      "image/png": "[encoded data removed]",
      "text/plain": [
       "<Figure size 500x400 with 1 Axes>"
      ]
     },
     "metadata": {},
     "output_type": "display_data"
    }
   ],
   "source": [
    "epochs_axis = range(1, len(dev_hist)+1)\n",
    "plt.figure(figsize=(5,4))\n",
    "plt.plot(epochs_axis, train_hist, \"-o\", label=\"train accuracy\")\n",
    "plt.plot(epochs_axis, dev_hist,   \"-o\", label=\"dev accuracy\")\n",
    "plt.xlabel(\"Epoch\"); plt.ylabel(\"Accuracy\")\n",
    "plt.title(\"ModernBERT (head-tuned) accuracy vs epoch\")\n",
    "plt.grid(True); plt.legend(); plt.tight_layout()\n"
   ]
  },
  {
   "cell_type": "code",
   "execution_count": null,
   "id": "f7081a7e",
   "metadata": {},
   "outputs": [
    {
     "name": "stderr",
     "output_type": "stream",
     "text": [
      "C:\\Users\\gabri\\AppData\\Local\\Temp\\ipykernel_21448\\3550261772.py:2: FutureWarning: You are using `torch.load` with `weights_only=False` (the current default value), which uses the default pickle module implicitly. It is possible to construct malicious pickle data which will execute arbitrary code during unpickling (See https://github.com/pytorch/pytorch/blob/main/SECURITY.md#untrusted-models for more details). In a future release, the default value for `weights_only` will be flipped to `True`. This limits the functions that could be executed during unpickling. Arbitrary objects will no longer be allowed to be loaded via this mode unless they are explicitly allowlisted by the user via `torch.serialization.add_safe_globals`. We recommend you start setting `weights_only=True` for any use case where you don't have full control of the loaded file. Please open an issue on GitHub for any issues related to this experimental feature.\n",
      "  model.load_state_dict(torch.load(best_path, map_location=device))\n"
     ]
    },
    {
     "name": "stdout",
     "output_type": "stream",
     "text": [
      "{'best_dev_accuracy': 0.5982532752393115, 'test_accuracy': 0.5633187774227175}\n"
     ]
    }
   ],
   "source": [
    "model.load_state_dict(torch.load(best_path, map_location=device))\n",
    "model.to(device)\n",
    "test_acc = evaluate(model, test_loader)\n",
    "print({\"best_dev_accuracy\": best_dev, \"test_accuracy\": test_acc})\n"
   ]
  }
 ],
 "metadata": {
  "kernelspec": {
   "display_name": "ssw_hw1",
   "language": "python",
   "name": "python3"
  },
  "language_info": {
   "codemirror_mode": {
    "name": "ipython",
    "version": 3
   },
   "file_extension": ".py",
   "mimetype": "text/x-python",
   "name": "python",
   "nbconvert_exporter": "python",
   "pygments_lexer": "ipython3",
   "version": "3.10.13"
  }
 },
 "nbformat": 4,
 "nbformat_minor": 5
}
